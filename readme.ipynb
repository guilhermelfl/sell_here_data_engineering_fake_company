{
 "cells": [
  {
   "cell_type": "markdown",
   "metadata": {},
   "source": [
    "# Sell Here\n",
    "\n",
    "#### Data Engineering project\n",
    "\n",
    "## What is sell here?\n",
    "\n",
    "Sell here is a fake web platform to help companies sell their products through sell_here website.\n",
    "\n",
    "Sell Here also support receiving external sales to help you with insights and analytics for half the %_rate for the website sales."
   ]
  },
  {
   "cell_type": "markdown",
   "metadata": {},
   "source": [
    "## Sell here database\n",
    "\n",
    "Postgres is the choosen company's database.\n",
    "\n",
    "1. To set up this database we can initialize it with `docker-compose up -d` via terminal from *Docker* folder. Docker will create a container based on `docker-compose.yml` and a run `1-init.sql` creating our schemas and tables.\n",
    "\n",
    "2. To generate the database data run the script `faking_data/create_and_ingest_postgres_fake_data.py`. It'll create our fake data using **Faker** and ingest it to `sell_here` schema inside our postgres.\n",
    "    "
   ]
  },
  {
   "cell_type": "markdown",
   "metadata": {},
   "source": []
  }
 ],
 "metadata": {
  "language_info": {
   "name": "python"
  },
  "orig_nbformat": 4
 },
 "nbformat": 4,
 "nbformat_minor": 2
}
