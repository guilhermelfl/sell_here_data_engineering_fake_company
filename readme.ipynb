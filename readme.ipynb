{
 "cells": [
  {
   "cell_type": "markdown",
   "metadata": {},
   "source": [
    "# Sell Here\n",
    "\n",
    "#### Data Engineering project\n",
    "\n",
    "## What is sell here?\n",
    "\n",
    "Sell Here is a fake web platform to help companies sell their products through sell_here website.\n",
    "\n",
    "Also receiving external sales to help you with insights and analytics for 0.1 * the percentage agreed rate for the website sales."
   ]
  },
  {
   "cell_type": "markdown",
   "metadata": {},
   "source": [
    "## Sell here fake data\n",
    "\n",
    "### Postgres\n",
    "\n",
    "Postgres is the choosen company's database. This way we will have a database schema with 5 tables with the company's internal generated data.\n",
    "\n",
    "Sales made from the sell_here website charge the reseller the `agreed_rate_pct` on the `transaction_amount` value.\n",
    "\n",
    "1. Customers, this table contains customers information\n",
    "\n",
    "|Customer|\n",
    "| ------ |\n",
    "|customer_cpf|\n",
    "|customer_name|\n",
    "|customer_address|\n",
    "|customer_email|\n",
    "|birth_date|\n",
    "|creation_date|\n",
    "\n",
    "\n",
    "2. Products, this table contains products information\n",
    "\n",
    "|Products|\n",
    "| ------ |\n",
    "|product_id|\n",
    "|product_name|\n",
    "|base_product_price|\n",
    "|product_category|\n",
    "|creation_date|\n",
    "\n",
    "3. Reseller, this table contains resellers information\n",
    "\n",
    "|Reseller|\n",
    "| ------ |\n",
    "|reseller_cnpj|\n",
    "|reseller_name|\n",
    "|agreed_rate_pct|\n",
    "|creation_date|\n",
    "\n",
    "4. Reseller Products, this table contains what product which reseller sells and their information\n",
    "\n",
    "|Reseller_Products|\n",
    "| ------ |\n",
    "|reseller_cnpj|\n",
    "|product_id|\n",
    "|reseller_price|\n",
    "|creation_date|\n",
    "\n",
    "5. Sales, this table contains sales information\n",
    "\n",
    "|Sales|\n",
    "| ------ |\n",
    "|sales_id|\n",
    "|sales_datetime|\n",
    "|reseller_cnpj|\n",
    "|product_id|\n",
    "|customer_cpf|\n",
    "|transaction_amount|\n",
    "|payment_type|\n",
    "|creation_date|\n",
    "\n",
    "\n",
    "To set up this database we can initialize it with `docker-compose up -d` via terminal from *Docker* folder. Docker will create a container based on `docker-compose.yml` and a run `1-init.sql` creating our schemas and tables. \n"
   ]
  },
  {
   "cell_type": "markdown",
   "metadata": {},
   "source": [
    "### External sales\n",
    "\n",
    "External sales are files sell here receive to add them to our analytics insights, this file is not mandatory.\n",
    "\n",
    "Because of the infra used to ingest, maintain... this external sales sell here charge `0.1 * agreed_percentage_rate` on the external sales.\n",
    "\n",
    "These files consist in the same idea as postgres sales table, giving us the basic information of each item sold.\n",
    "\n",
    "|file columns|\n",
    "| ------ |\n",
    "|sales_id|\n",
    "|sales_datetime|\n",
    "|reseller_cnpj|\n",
    "|product_id|\n",
    "|customer_cpf|\n",
    "|transaction_amount|\n",
    "|payment_type|\n",
    "|creation_date|"
   ]
  },
  {
   "cell_type": "markdown",
   "metadata": {},
   "source": [
    "## Generating fake data\n",
    "\n",
    "To generate the fake data there is a python script inside `faking_data` folder, which will generate our postgres business data and ingest it. \n",
    "This script will also create the extenal files inside `reseller_files` script generated folder along the files with the name patterns `(DATE)_(RESELLER-CNPJ).xlsx`."
   ]
  },
  {
   "cell_type": "markdown",
   "metadata": {},
   "source": [
    "### Ingesting the external files\n",
    "\n",
    "These Excel external data files are ingested by the script `files_ingestion.py` which will read every file inside the `reseller_files` folder, ingest it to our datawarehouse inside the `external_reseller_sales` table, and after that deleting the file from the folder."
   ]
  },
  {
   "cell_type": "markdown",
   "metadata": {},
   "source": []
  }
 ],
 "metadata": {
  "kernelspec": {
   "display_name": "Python 3.10.1 64-bit",
   "language": "python",
   "name": "python3"
  },
  "language_info": {
   "name": "python",
   "version": "3.10.1"
  },
  "orig_nbformat": 4,
  "vscode": {
   "interpreter": {
    "hash": "4f9a6932ef77f3c3f714f6e43df2e44ab07be222208592448fe11c39a8b23d12"
   }
  }
 },
 "nbformat": 4,
 "nbformat_minor": 2
}
